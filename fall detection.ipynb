{
 "cells": [
  {
   "cell_type": "code",
   "execution_count": 40,
   "metadata": {},
   "outputs": [
    {
     "name": "stdout",
     "output_type": "stream",
     "text": [
      "1.12.0\n"
     ]
    }
   ],
   "source": [
    "import tensorflow as tf\n",
    "from tensorflow.keras import Sequential\n",
    "from tensorflow.keras.layers import Flatten, Dense, Dropout, BatchNormalization\n",
    "from tensorflow.keras.layers import Conv2D, MaxPool2D\n",
    "from tensorflow.keras.optimizers import Adam\n",
    "print(tf.__version__)"
   ]
  },
  {
   "cell_type": "code",
   "execution_count": 2,
   "metadata": {},
   "outputs": [],
   "source": [
    "import numpy as np\n",
    "import matplotlib.pyplot as plt\n",
    "from sklearn.model_selection import train_test_split\n",
    "from sklearn.preprocessing import StandardScaler, LabelEncoder"
   ]
  },
  {
   "cell_type": "code",
   "execution_count": 3,
   "metadata": {},
   "outputs": [],
   "source": [
    "import pandas as pd\n",
    "data=pd.read_csv('deva walk and fall.csv')"
   ]
  },
  {
   "cell_type": "code",
   "execution_count": 4,
   "metadata": {},
   "outputs": [
    {
     "data": {
      "text/html": [
       "<div>\n",
       "<style scoped>\n",
       "    .dataframe tbody tr th:only-of-type {\n",
       "        vertical-align: middle;\n",
       "    }\n",
       "\n",
       "    .dataframe tbody tr th {\n",
       "        vertical-align: top;\n",
       "    }\n",
       "\n",
       "    .dataframe thead th {\n",
       "        text-align: right;\n",
       "    }\n",
       "</style>\n",
       "<table border=\"1\" class=\"dataframe\">\n",
       "  <thead>\n",
       "    <tr style=\"text-align: right;\">\n",
       "      <th></th>\n",
       "      <th>time</th>\n",
       "      <th>gFx</th>\n",
       "      <th>gFy</th>\n",
       "      <th>gFz</th>\n",
       "      <th>TgF</th>\n",
       "      <th>activity</th>\n",
       "    </tr>\n",
       "  </thead>\n",
       "  <tbody>\n",
       "    <tr>\n",
       "      <th>0</th>\n",
       "      <td>5.607</td>\n",
       "      <td>0.5201</td>\n",
       "      <td>0.7910</td>\n",
       "      <td>0.1875</td>\n",
       "      <td>0.965</td>\n",
       "      <td>walking</td>\n",
       "    </tr>\n",
       "    <tr>\n",
       "      <th>1</th>\n",
       "      <td>5.609</td>\n",
       "      <td>0.5155</td>\n",
       "      <td>0.7976</td>\n",
       "      <td>0.1844</td>\n",
       "      <td>0.967</td>\n",
       "      <td>walking</td>\n",
       "    </tr>\n",
       "    <tr>\n",
       "      <th>2</th>\n",
       "      <td>5.611</td>\n",
       "      <td>0.5204</td>\n",
       "      <td>0.7979</td>\n",
       "      <td>0.1873</td>\n",
       "      <td>0.971</td>\n",
       "      <td>walking</td>\n",
       "    </tr>\n",
       "    <tr>\n",
       "      <th>3</th>\n",
       "      <td>5.613</td>\n",
       "      <td>0.5189</td>\n",
       "      <td>0.8037</td>\n",
       "      <td>0.1880</td>\n",
       "      <td>0.975</td>\n",
       "      <td>walking</td>\n",
       "    </tr>\n",
       "    <tr>\n",
       "      <th>4</th>\n",
       "      <td>5.615</td>\n",
       "      <td>0.5238</td>\n",
       "      <td>0.8084</td>\n",
       "      <td>0.1900</td>\n",
       "      <td>0.982</td>\n",
       "      <td>walking</td>\n",
       "    </tr>\n",
       "    <tr>\n",
       "      <th>5</th>\n",
       "      <td>5.617</td>\n",
       "      <td>0.5228</td>\n",
       "      <td>0.8113</td>\n",
       "      <td>0.1929</td>\n",
       "      <td>0.984</td>\n",
       "      <td>walking</td>\n",
       "    </tr>\n",
       "    <tr>\n",
       "      <th>6</th>\n",
       "      <td>5.619</td>\n",
       "      <td>0.5265</td>\n",
       "      <td>0.8133</td>\n",
       "      <td>0.1976</td>\n",
       "      <td>0.989</td>\n",
       "      <td>walking</td>\n",
       "    </tr>\n",
       "    <tr>\n",
       "      <th>7</th>\n",
       "      <td>5.620</td>\n",
       "      <td>0.5233</td>\n",
       "      <td>0.8147</td>\n",
       "      <td>0.1995</td>\n",
       "      <td>0.989</td>\n",
       "      <td>walking</td>\n",
       "    </tr>\n",
       "    <tr>\n",
       "      <th>8</th>\n",
       "      <td>5.622</td>\n",
       "      <td>0.5199</td>\n",
       "      <td>0.8189</td>\n",
       "      <td>0.1995</td>\n",
       "      <td>0.990</td>\n",
       "      <td>walking</td>\n",
       "    </tr>\n",
       "    <tr>\n",
       "      <th>9</th>\n",
       "      <td>5.624</td>\n",
       "      <td>0.5216</td>\n",
       "      <td>0.8164</td>\n",
       "      <td>0.2027</td>\n",
       "      <td>0.990</td>\n",
       "      <td>walking</td>\n",
       "    </tr>\n",
       "  </tbody>\n",
       "</table>\n",
       "</div>"
      ],
      "text/plain": [
       "    time     gFx     gFy     gFz    TgF activity\n",
       "0  5.607  0.5201  0.7910  0.1875  0.965  walking\n",
       "1  5.609  0.5155  0.7976  0.1844  0.967  walking\n",
       "2  5.611  0.5204  0.7979  0.1873  0.971  walking\n",
       "3  5.613  0.5189  0.8037  0.1880  0.975  walking\n",
       "4  5.615  0.5238  0.8084  0.1900  0.982  walking\n",
       "5  5.617  0.5228  0.8113  0.1929  0.984  walking\n",
       "6  5.619  0.5265  0.8133  0.1976  0.989  walking\n",
       "7  5.620  0.5233  0.8147  0.1995  0.989  walking\n",
       "8  5.622  0.5199  0.8189  0.1995  0.990  walking\n",
       "9  5.624  0.5216  0.8164  0.2027  0.990  walking"
      ]
     },
     "execution_count": 4,
     "metadata": {},
     "output_type": "execute_result"
    }
   ],
   "source": [
    "data.head(10)"
   ]
  },
  {
   "cell_type": "code",
   "execution_count": 5,
   "metadata": {},
   "outputs": [
    {
     "data": {
      "text/html": [
       "<div>\n",
       "<style scoped>\n",
       "    .dataframe tbody tr th:only-of-type {\n",
       "        vertical-align: middle;\n",
       "    }\n",
       "\n",
       "    .dataframe tbody tr th {\n",
       "        vertical-align: top;\n",
       "    }\n",
       "\n",
       "    .dataframe thead th {\n",
       "        text-align: right;\n",
       "    }\n",
       "</style>\n",
       "<table border=\"1\" class=\"dataframe\">\n",
       "  <thead>\n",
       "    <tr style=\"text-align: right;\">\n",
       "      <th></th>\n",
       "      <th>time</th>\n",
       "      <th>gFx</th>\n",
       "      <th>gFy</th>\n",
       "      <th>gFz</th>\n",
       "      <th>TgF</th>\n",
       "      <th>activity</th>\n",
       "    </tr>\n",
       "  </thead>\n",
       "  <tbody>\n",
       "    <tr>\n",
       "      <th>13376</th>\n",
       "      <td>2.884</td>\n",
       "      <td>0.3609</td>\n",
       "      <td>0.7661</td>\n",
       "      <td>0.5061</td>\n",
       "      <td>0.987</td>\n",
       "      <td>walk_fall</td>\n",
       "    </tr>\n",
       "    <tr>\n",
       "      <th>13377</th>\n",
       "      <td>2.890</td>\n",
       "      <td>0.3291</td>\n",
       "      <td>0.7622</td>\n",
       "      <td>0.4876</td>\n",
       "      <td>0.963</td>\n",
       "      <td>walk_fall</td>\n",
       "    </tr>\n",
       "    <tr>\n",
       "      <th>13378</th>\n",
       "      <td>2.892</td>\n",
       "      <td>0.3052</td>\n",
       "      <td>0.7532</td>\n",
       "      <td>0.4898</td>\n",
       "      <td>0.949</td>\n",
       "      <td>walk_fall</td>\n",
       "    </tr>\n",
       "    <tr>\n",
       "      <th>13379</th>\n",
       "      <td>2.893</td>\n",
       "      <td>0.2915</td>\n",
       "      <td>0.7453</td>\n",
       "      <td>0.5034</td>\n",
       "      <td>0.945</td>\n",
       "      <td>walk_fall</td>\n",
       "    </tr>\n",
       "    <tr>\n",
       "      <th>13380</th>\n",
       "      <td>2.894</td>\n",
       "      <td>0.2893</td>\n",
       "      <td>0.7392</td>\n",
       "      <td>0.5139</td>\n",
       "      <td>0.946</td>\n",
       "      <td>walk_fall</td>\n",
       "    </tr>\n",
       "    <tr>\n",
       "      <th>13381</th>\n",
       "      <td>2.897</td>\n",
       "      <td>0.2966</td>\n",
       "      <td>0.7324</td>\n",
       "      <td>0.5332</td>\n",
       "      <td>0.953</td>\n",
       "      <td>walk_fall</td>\n",
       "    </tr>\n",
       "    <tr>\n",
       "      <th>13382</th>\n",
       "      <td>2.901</td>\n",
       "      <td>0.3052</td>\n",
       "      <td>0.7236</td>\n",
       "      <td>0.5626</td>\n",
       "      <td>0.966</td>\n",
       "      <td>walk_fall</td>\n",
       "    </tr>\n",
       "    <tr>\n",
       "      <th>13383</th>\n",
       "      <td>2.906</td>\n",
       "      <td>0.3137</td>\n",
       "      <td>0.7150</td>\n",
       "      <td>0.5845</td>\n",
       "      <td>0.975</td>\n",
       "      <td>walk_fall</td>\n",
       "    </tr>\n",
       "    <tr>\n",
       "      <th>13384</th>\n",
       "      <td>2.907</td>\n",
       "      <td>0.3223</td>\n",
       "      <td>0.7170</td>\n",
       "      <td>0.5985</td>\n",
       "      <td>0.988</td>\n",
       "      <td>walk_fall</td>\n",
       "    </tr>\n",
       "    <tr>\n",
       "      <th>13385</th>\n",
       "      <td>2.907</td>\n",
       "      <td>0.3164</td>\n",
       "      <td>0.7172</td>\n",
       "      <td>0.6153</td>\n",
       "      <td>0.997</td>\n",
       "      <td>walk_fall</td>\n",
       "    </tr>\n",
       "  </tbody>\n",
       "</table>\n",
       "</div>"
      ],
      "text/plain": [
       "        time     gFx     gFy     gFz    TgF   activity\n",
       "13376  2.884  0.3609  0.7661  0.5061  0.987  walk_fall\n",
       "13377  2.890  0.3291  0.7622  0.4876  0.963  walk_fall\n",
       "13378  2.892  0.3052  0.7532  0.4898  0.949  walk_fall\n",
       "13379  2.893  0.2915  0.7453  0.5034  0.945  walk_fall\n",
       "13380  2.894  0.2893  0.7392  0.5139  0.946  walk_fall\n",
       "13381  2.897  0.2966  0.7324  0.5332  0.953  walk_fall\n",
       "13382  2.901  0.3052  0.7236  0.5626  0.966  walk_fall\n",
       "13383  2.906  0.3137  0.7150  0.5845  0.975  walk_fall\n",
       "13384  2.907  0.3223  0.7170  0.5985  0.988  walk_fall\n",
       "13385  2.907  0.3164  0.7172  0.6153  0.997  walk_fall"
      ]
     },
     "execution_count": 5,
     "metadata": {},
     "output_type": "execute_result"
    }
   ],
   "source": [
    "data.tail(10)"
   ]
  },
  {
   "cell_type": "code",
   "execution_count": 6,
   "metadata": {},
   "outputs": [
    {
     "data": {
      "text/plain": [
       "time        0\n",
       "gFx         0\n",
       "gFy         0\n",
       "gFz         0\n",
       "TgF         0\n",
       "activity    0\n",
       "dtype: int64"
      ]
     },
     "execution_count": 6,
     "metadata": {},
     "output_type": "execute_result"
    }
   ],
   "source": [
    "data.isnull().sum()"
   ]
  },
  {
   "cell_type": "code",
   "execution_count": 7,
   "metadata": {},
   "outputs": [
    {
     "name": "stdout",
     "output_type": "stream",
     "text": [
      "<class 'pandas.core.frame.DataFrame'>\n",
      "RangeIndex: 13386 entries, 0 to 13385\n",
      "Data columns (total 6 columns):\n",
      " #   Column    Non-Null Count  Dtype  \n",
      "---  ------    --------------  -----  \n",
      " 0   time      13386 non-null  float64\n",
      " 1   gFx       13386 non-null  float64\n",
      " 2   gFy       13386 non-null  float64\n",
      " 3   gFz       13386 non-null  float64\n",
      " 4   TgF       13386 non-null  float64\n",
      " 5   activity  13386 non-null  object \n",
      "dtypes: float64(5), object(1)\n",
      "memory usage: 627.6+ KB\n"
     ]
    }
   ],
   "source": [
    "data.info()"
   ]
  },
  {
   "cell_type": "code",
   "execution_count": 8,
   "metadata": {},
   "outputs": [
    {
     "data": {
      "text/plain": [
       "Index(['walking', 'walk_fall'], dtype='object')"
      ]
     },
     "execution_count": 8,
     "metadata": {},
     "output_type": "execute_result"
    }
   ],
   "source": [
    "activities = data['activity'].value_counts().index\n",
    "activities"
   ]
  },
  {
   "cell_type": "code",
   "execution_count": 9,
   "metadata": {},
   "outputs": [
    {
     "data": {
      "text/plain": [
       "walking      9241\n",
       "walk_fall    4145\n",
       "Name: activity, dtype: int64"
      ]
     },
     "execution_count": 9,
     "metadata": {},
     "output_type": "execute_result"
    }
   ],
   "source": [
    "data['activity'].value_counts()"
   ]
  },
  {
   "cell_type": "code",
   "execution_count": 10,
   "metadata": {},
   "outputs": [
    {
     "data": {
      "image/png": "[encoded data removed]",
      "text/plain": [
       "<Figure size 1080x504 with 3 Axes>"
      ]
     },
     "metadata": {
      "needs_background": "light"
     },
     "output_type": "display_data"
    },
    {
     "data": {
      "image/png": "[encoded data removed]",
      "text/plain": [
       "<Figure size 1080x504 with 3 Axes>"
      ]
     },
     "metadata": {
      "needs_background": "light"
     },
     "output_type": "display_data"
    }
   ],
   "source": [
    "def plot_activity(activity, data):\n",
    "    fig, (ax0, ax1, ax2) = plt.subplots(nrows=3, figsize=(15, 7), sharex=True)\n",
    "    plot_axis(ax0, data['time'], data['gFx'], 'X-Axis')\n",
    "    plot_axis(ax1, data['time'], data['gFy'], 'Y-Axis')\n",
    "    plot_axis(ax2, data['time'], data['gFz'], 'Z-Axis')\n",
    "    plt.subplots_adjust(hspace=0.2)\n",
    "    fig.suptitle(activity)\n",
    "    plt.subplots_adjust(top=0.90)\n",
    "    plt.show()\n",
    "\n",
    "def plot_axis(ax, x, y, title):\n",
    "    ax.plot(x, y, 'g')\n",
    "    ax.set_title(title)\n",
    "    ax.xaxis.set_visible(False)\n",
    "    ax.set_ylim([min(y) - np.std(y), max(y) + np.std(y)])\n",
    "    ax.set_xlim([min(x), max(x)])\n",
    "    ax.grid(True)\n",
    "\n",
    "for activity in activities:\n",
    "    data_for_plot = data[(data['activity'] == activity)][:30]\n",
    "    plot_activity(activity, data_for_plot)"
   ]
  },
  {
   "cell_type": "code",
   "execution_count": 11,
   "metadata": {},
   "outputs": [
    {
     "data": {
      "text/html": [
       "<div>\n",
       "<style scoped>\n",
       "    .dataframe tbody tr th:only-of-type {\n",
       "        vertical-align: middle;\n",
       "    }\n",
       "\n",
       "    .dataframe tbody tr th {\n",
       "        vertical-align: top;\n",
       "    }\n",
       "\n",
       "    .dataframe thead th {\n",
       "        text-align: right;\n",
       "    }\n",
       "</style>\n",
       "<table border=\"1\" class=\"dataframe\">\n",
       "  <thead>\n",
       "    <tr style=\"text-align: right;\">\n",
       "      <th></th>\n",
       "      <th>gFx</th>\n",
       "      <th>gFy</th>\n",
       "      <th>gFz</th>\n",
       "      <th>TgF</th>\n",
       "      <th>activity</th>\n",
       "    </tr>\n",
       "  </thead>\n",
       "  <tbody>\n",
       "    <tr>\n",
       "      <th>0</th>\n",
       "      <td>0.5201</td>\n",
       "      <td>0.7910</td>\n",
       "      <td>0.1875</td>\n",
       "      <td>0.965</td>\n",
       "      <td>walking</td>\n",
       "    </tr>\n",
       "    <tr>\n",
       "      <th>1</th>\n",
       "      <td>0.5155</td>\n",
       "      <td>0.7976</td>\n",
       "      <td>0.1844</td>\n",
       "      <td>0.967</td>\n",
       "      <td>walking</td>\n",
       "    </tr>\n",
       "    <tr>\n",
       "      <th>2</th>\n",
       "      <td>0.5204</td>\n",
       "      <td>0.7979</td>\n",
       "      <td>0.1873</td>\n",
       "      <td>0.971</td>\n",
       "      <td>walking</td>\n",
       "    </tr>\n",
       "    <tr>\n",
       "      <th>3</th>\n",
       "      <td>0.5189</td>\n",
       "      <td>0.8037</td>\n",
       "      <td>0.1880</td>\n",
       "      <td>0.975</td>\n",
       "      <td>walking</td>\n",
       "    </tr>\n",
       "    <tr>\n",
       "      <th>4</th>\n",
       "      <td>0.5238</td>\n",
       "      <td>0.8084</td>\n",
       "      <td>0.1900</td>\n",
       "      <td>0.982</td>\n",
       "      <td>walking</td>\n",
       "    </tr>\n",
       "  </tbody>\n",
       "</table>\n",
       "</div>"
      ],
      "text/plain": [
       "      gFx     gFy     gFz    TgF activity\n",
       "0  0.5201  0.7910  0.1875  0.965  walking\n",
       "1  0.5155  0.7976  0.1844  0.967  walking\n",
       "2  0.5204  0.7979  0.1873  0.971  walking\n",
       "3  0.5189  0.8037  0.1880  0.975  walking\n",
       "4  0.5238  0.8084  0.1900  0.982  walking"
      ]
     },
     "execution_count": 11,
     "metadata": {},
     "output_type": "execute_result"
    }
   ],
   "source": [
    "df = data.drop(['time'], axis = 1).copy()\n",
    "df.head()"
   ]
  },
  {
   "cell_type": "code",
   "execution_count": 12,
   "metadata": {},
   "outputs": [
    {
     "data": {
      "text/plain": [
       "(8290, 5)"
      ]
     },
     "execution_count": 12,
     "metadata": {},
     "output_type": "execute_result"
    }
   ],
   "source": [
    "Walking = df[df['activity']=='walking'].head(4145).copy()\n",
    "fall = df[df['activity']=='walk_fall'].copy()\n",
    "\n",
    "balanced_data = pd.DataFrame()\n",
    "balanced_data = balanced_data.append([Walking, fall])\n",
    "balanced_data.shape\n"
   ]
  },
  {
   "cell_type": "code",
   "execution_count": 13,
   "metadata": {},
   "outputs": [
    {
     "data": {
      "text/plain": [
       "walk_fall    4145\n",
       "walking      4145\n",
       "Name: activity, dtype: int64"
      ]
     },
     "execution_count": 13,
     "metadata": {},
     "output_type": "execute_result"
    }
   ],
   "source": [
    "balanced_data['activity'].value_counts()"
   ]
  },
  {
   "cell_type": "code",
   "execution_count": 14,
   "metadata": {},
   "outputs": [
    {
     "data": {
      "text/html": [
       "<div>\n",
       "<style scoped>\n",
       "    .dataframe tbody tr th:only-of-type {\n",
       "        vertical-align: middle;\n",
       "    }\n",
       "\n",
       "    .dataframe tbody tr th {\n",
       "        vertical-align: top;\n",
       "    }\n",
       "\n",
       "    .dataframe thead th {\n",
       "        text-align: right;\n",
       "    }\n",
       "</style>\n",
       "<table border=\"1\" class=\"dataframe\">\n",
       "  <thead>\n",
       "    <tr style=\"text-align: right;\">\n",
       "      <th></th>\n",
       "      <th>gFx</th>\n",
       "      <th>gFy</th>\n",
       "      <th>gFz</th>\n",
       "      <th>TgF</th>\n",
       "      <th>activity</th>\n",
       "      <th>label</th>\n",
       "    </tr>\n",
       "  </thead>\n",
       "  <tbody>\n",
       "    <tr>\n",
       "      <th>0</th>\n",
       "      <td>0.5201</td>\n",
       "      <td>0.7910</td>\n",
       "      <td>0.1875</td>\n",
       "      <td>0.965</td>\n",
       "      <td>walking</td>\n",
       "      <td>1</td>\n",
       "    </tr>\n",
       "    <tr>\n",
       "      <th>1</th>\n",
       "      <td>0.5155</td>\n",
       "      <td>0.7976</td>\n",
       "      <td>0.1844</td>\n",
       "      <td>0.967</td>\n",
       "      <td>walking</td>\n",
       "      <td>1</td>\n",
       "    </tr>\n",
       "    <tr>\n",
       "      <th>2</th>\n",
       "      <td>0.5204</td>\n",
       "      <td>0.7979</td>\n",
       "      <td>0.1873</td>\n",
       "      <td>0.971</td>\n",
       "      <td>walking</td>\n",
       "      <td>1</td>\n",
       "    </tr>\n",
       "    <tr>\n",
       "      <th>3</th>\n",
       "      <td>0.5189</td>\n",
       "      <td>0.8037</td>\n",
       "      <td>0.1880</td>\n",
       "      <td>0.975</td>\n",
       "      <td>walking</td>\n",
       "      <td>1</td>\n",
       "    </tr>\n",
       "    <tr>\n",
       "      <th>4</th>\n",
       "      <td>0.5238</td>\n",
       "      <td>0.8084</td>\n",
       "      <td>0.1900</td>\n",
       "      <td>0.982</td>\n",
       "      <td>walking</td>\n",
       "      <td>1</td>\n",
       "    </tr>\n",
       "  </tbody>\n",
       "</table>\n",
       "</div>"
      ],
      "text/plain": [
       "      gFx     gFy     gFz    TgF activity  label\n",
       "0  0.5201  0.7910  0.1875  0.965  walking      1\n",
       "1  0.5155  0.7976  0.1844  0.967  walking      1\n",
       "2  0.5204  0.7979  0.1873  0.971  walking      1\n",
       "3  0.5189  0.8037  0.1880  0.975  walking      1\n",
       "4  0.5238  0.8084  0.1900  0.982  walking      1"
      ]
     },
     "execution_count": 14,
     "metadata": {},
     "output_type": "execute_result"
    }
   ],
   "source": [
    "label = LabelEncoder()\n",
    "balanced_data['label'] = label.fit_transform(balanced_data['activity'])\n",
    "balanced_data.head()"
   ]
  },
  {
   "cell_type": "code",
   "execution_count": 15,
   "metadata": {},
   "outputs": [
    {
     "data": {
      "text/plain": [
       "array(['walk_fall', 'walking'], dtype=object)"
      ]
     },
     "execution_count": 15,
     "metadata": {},
     "output_type": "execute_result"
    }
   ],
   "source": [
    "label.classes_"
   ]
  },
  {
   "cell_type": "code",
   "execution_count": 16,
   "metadata": {},
   "outputs": [],
   "source": [
    "X = balanced_data[['gFx', 'gFy', 'gFz']]\n",
    "y = balanced_data['label']"
   ]
  },
  {
   "cell_type": "code",
   "execution_count": 17,
   "metadata": {},
   "outputs": [
    {
     "data": {
      "text/html": [
       "<div>\n",
       "<style scoped>\n",
       "    .dataframe tbody tr th:only-of-type {\n",
       "        vertical-align: middle;\n",
       "    }\n",
       "\n",
       "    .dataframe tbody tr th {\n",
       "        vertical-align: top;\n",
       "    }\n",
       "\n",
       "    .dataframe thead th {\n",
       "        text-align: right;\n",
       "    }\n",
       "</style>\n",
       "<table border=\"1\" class=\"dataframe\">\n",
       "  <thead>\n",
       "    <tr style=\"text-align: right;\">\n",
       "      <th></th>\n",
       "      <th>gFx</th>\n",
       "      <th>gFy</th>\n",
       "      <th>gFz</th>\n",
       "      <th>label</th>\n",
       "    </tr>\n",
       "  </thead>\n",
       "  <tbody>\n",
       "    <tr>\n",
       "      <th>0</th>\n",
       "      <td>0.461716</td>\n",
       "      <td>0.196431</td>\n",
       "      <td>0.056415</td>\n",
       "      <td>1</td>\n",
       "    </tr>\n",
       "    <tr>\n",
       "      <th>1</th>\n",
       "      <td>0.453301</td>\n",
       "      <td>0.211432</td>\n",
       "      <td>0.048275</td>\n",
       "      <td>1</td>\n",
       "    </tr>\n",
       "    <tr>\n",
       "      <th>2</th>\n",
       "      <td>0.462265</td>\n",
       "      <td>0.212114</td>\n",
       "      <td>0.055890</td>\n",
       "      <td>1</td>\n",
       "    </tr>\n",
       "    <tr>\n",
       "      <th>3</th>\n",
       "      <td>0.459521</td>\n",
       "      <td>0.225297</td>\n",
       "      <td>0.057728</td>\n",
       "      <td>1</td>\n",
       "    </tr>\n",
       "    <tr>\n",
       "      <th>4</th>\n",
       "      <td>0.468484</td>\n",
       "      <td>0.235980</td>\n",
       "      <td>0.062980</td>\n",
       "      <td>1</td>\n",
       "    </tr>\n",
       "  </tbody>\n",
       "</table>\n",
       "</div>"
      ],
      "text/plain": [
       "        gFx       gFy       gFz  label\n",
       "0  0.461716  0.196431  0.056415      1\n",
       "1  0.453301  0.211432  0.048275      1\n",
       "2  0.462265  0.212114  0.055890      1\n",
       "3  0.459521  0.225297  0.057728      1\n",
       "4  0.468484  0.235980  0.062980      1"
      ]
     },
     "execution_count": 17,
     "metadata": {},
     "output_type": "execute_result"
    }
   ],
   "source": [
    "scaler = StandardScaler()\n",
    "X = scaler.fit_transform(X)\n",
    "\n",
    "scaled_X = pd.DataFrame(data = X, columns = ['gFx', 'gFy', 'gFz'])\n",
    "scaled_X['label'] = y.values\n",
    "\n",
    "scaled_X.head()"
   ]
  },
  {
   "cell_type": "code",
   "execution_count": 18,
   "metadata": {},
   "outputs": [
    {
     "data": {
      "text/html": [
       "<div>\n",
       "<style scoped>\n",
       "    .dataframe tbody tr th:only-of-type {\n",
       "        vertical-align: middle;\n",
       "    }\n",
       "\n",
       "    .dataframe tbody tr th {\n",
       "        vertical-align: top;\n",
       "    }\n",
       "\n",
       "    .dataframe thead th {\n",
       "        text-align: right;\n",
       "    }\n",
       "</style>\n",
       "<table border=\"1\" class=\"dataframe\">\n",
       "  <thead>\n",
       "    <tr style=\"text-align: right;\">\n",
       "      <th></th>\n",
       "      <th>gFx</th>\n",
       "      <th>gFy</th>\n",
       "      <th>gFz</th>\n",
       "      <th>label</th>\n",
       "    </tr>\n",
       "  </thead>\n",
       "  <tbody>\n",
       "    <tr>\n",
       "      <th>8285</th>\n",
       "      <td>0.052863</td>\n",
       "      <td>0.063238</td>\n",
       "      <td>0.964205</td>\n",
       "      <td>0</td>\n",
       "    </tr>\n",
       "    <tr>\n",
       "      <th>8286</th>\n",
       "      <td>0.068595</td>\n",
       "      <td>0.043236</td>\n",
       "      <td>1.041408</td>\n",
       "      <td>0</td>\n",
       "    </tr>\n",
       "    <tr>\n",
       "      <th>8287</th>\n",
       "      <td>0.084144</td>\n",
       "      <td>0.023689</td>\n",
       "      <td>1.098916</td>\n",
       "      <td>0</td>\n",
       "    </tr>\n",
       "    <tr>\n",
       "      <th>8288</th>\n",
       "      <td>0.099876</td>\n",
       "      <td>0.028235</td>\n",
       "      <td>1.135680</td>\n",
       "      <td>0</td>\n",
       "    </tr>\n",
       "    <tr>\n",
       "      <th>8289</th>\n",
       "      <td>0.089083</td>\n",
       "      <td>0.028689</td>\n",
       "      <td>1.179796</td>\n",
       "      <td>0</td>\n",
       "    </tr>\n",
       "  </tbody>\n",
       "</table>\n",
       "</div>"
      ],
      "text/plain": [
       "           gFx       gFy       gFz  label\n",
       "8285  0.052863  0.063238  0.964205      0\n",
       "8286  0.068595  0.043236  1.041408      0\n",
       "8287  0.084144  0.023689  1.098916      0\n",
       "8288  0.099876  0.028235  1.135680      0\n",
       "8289  0.089083  0.028689  1.179796      0"
      ]
     },
     "execution_count": 18,
     "metadata": {},
     "output_type": "execute_result"
    }
   ],
   "source": [
    "scaled_X.tail()"
   ]
  },
  {
   "cell_type": "code",
   "execution_count": 19,
   "metadata": {},
   "outputs": [],
   "source": [
    "import scipy.stats as stats"
   ]
  },
  {
   "cell_type": "code",
   "execution_count": 20,
   "metadata": {},
   "outputs": [],
   "source": [
    "Fs = 20\n",
    "frame_size = Fs*4 # 80\n",
    "hop_size = Fs*2 # 40"
   ]
  },
  {
   "cell_type": "code",
   "execution_count": 21,
   "metadata": {},
   "outputs": [
    {
     "data": {
      "text/plain": [
       "((206, 80, 3), (206,))"
      ]
     },
     "execution_count": 21,
     "metadata": {},
     "output_type": "execute_result"
    }
   ],
   "source": [
    "def get_frames(df, frame_size, hop_size):\n",
    "\n",
    "    N_FEATURES = 3\n",
    "\n",
    "    frames = []\n",
    "    labels = []\n",
    "    for i in range(0, len(df) - frame_size, hop_size):\n",
    "        x = df['gFx'].values[i: i + frame_size]\n",
    "        y = df['gFy'].values[i: i + frame_size]\n",
    "        z = df['gFz'].values[i: i + frame_size]\n",
    "        \n",
    "        # Retrieve the most often used label in this segment\n",
    "        label = stats.mode(df['label'][i: i + frame_size])[0][0]\n",
    "        frames.append([x, y, z])\n",
    "        labels.append(label)\n",
    "\n",
    "    # Bring the segments into a better shape\n",
    "    frames = np.asarray(frames).reshape(-1, frame_size, N_FEATURES)\n",
    "    labels = np.asarray(labels)\n",
    "\n",
    "    return frames, labels\n",
    "\n",
    "X, y = get_frames(scaled_X, frame_size, hop_size)\n",
    "\n",
    "X.shape, y.shape"
   ]
  },
  {
   "cell_type": "code",
   "execution_count": 22,
   "metadata": {},
   "outputs": [],
   "source": [
    "X_train, X_test, y_train, y_test = train_test_split(X, y, test_size = 0.2, random_state = 0, stratify = y)"
   ]
  },
  {
   "cell_type": "code",
   "execution_count": 23,
   "metadata": {},
   "outputs": [
    {
     "data": {
      "text/plain": [
       "((164, 80, 3), (42, 80, 3))"
      ]
     },
     "execution_count": 23,
     "metadata": {},
     "output_type": "execute_result"
    }
   ],
   "source": [
    "X_train.shape, X_test.shape"
   ]
  },
  {
   "cell_type": "code",
   "execution_count": 24,
   "metadata": {},
   "outputs": [
    {
     "data": {
      "text/plain": [
       "((80, 3), (80, 3))"
      ]
     },
     "execution_count": 24,
     "metadata": {},
     "output_type": "execute_result"
    }
   ],
   "source": [
    "X_train[0].shape, X_test[0].shape"
   ]
  },
  {
   "cell_type": "code",
   "execution_count": 25,
   "metadata": {},
   "outputs": [],
   "source": [
    "X_train = X_train.reshape(164, 80, 3, 1)\n",
    "X_test = X_test.reshape(42, 80, 3, 1)"
   ]
  },
  {
   "cell_type": "code",
   "execution_count": 26,
   "metadata": {},
   "outputs": [
    {
     "data": {
      "text/plain": [
       "((80, 3, 1), (80, 3, 1))"
      ]
     },
     "execution_count": 26,
     "metadata": {},
     "output_type": "execute_result"
    }
   ],
   "source": [
    "X_train[0].shape, X_test[0].shape"
   ]
  },
  {
   "cell_type": "code",
   "execution_count": 27,
   "metadata": {},
   "outputs": [],
   "source": [
    "model = Sequential()\n",
    "model.add(Conv2D(16, (2, 2), activation = 'relu', input_shape = X_train[0].shape))\n",
    "model.add(Dropout(0.1))\n",
    "\n",
    "model.add(Conv2D(32, (2, 2), activation='relu'))\n",
    "model.add(Dropout(0.2))\n",
    "\n",
    "model.add(Flatten())\n",
    "\n",
    "model.add(Dense(64, activation = 'relu'))\n",
    "model.add(Dropout(0.5))\n",
    "\n",
    "model.add(Dense(6, activation='softmax'))"
   ]
  },
  {
   "cell_type": "code",
   "execution_count": 28,
   "metadata": {},
   "outputs": [],
   "source": [
    "learning_rate = 0.001\n",
    "model.compile(optimizer=Adam(learning_rate), loss = 'sparse_categorical_crossentropy', metrics = ['accuracy'])\n"
   ]
  },
  {
   "cell_type": "code",
   "execution_count": 29,
   "metadata": {},
   "outputs": [
    {
     "name": "stdout",
     "output_type": "stream",
     "text": [
      "Train on 164 samples, validate on 42 samples\n",
      "Epoch 1/10\n",
      "164/164 [==============================] - 1s 3ms/step - loss: 1.1923 - acc: 0.6707 - val_loss: 0.4621 - val_acc: 1.0000\n",
      "Epoch 2/10\n",
      "164/164 [==============================] - 0s 267us/step - loss: 0.4101 - acc: 0.8902 - val_loss: 0.1227 - val_acc: 0.9762\n",
      "Epoch 3/10\n",
      "164/164 [==============================] - 0s 298us/step - loss: 0.1704 - acc: 0.9634 - val_loss: 0.0617 - val_acc: 0.9762\n",
      "Epoch 4/10\n",
      "164/164 [==============================] - 0s 243us/step - loss: 0.2059 - acc: 0.9695 - val_loss: 0.0388 - val_acc: 1.0000\n",
      "Epoch 5/10\n",
      "164/164 [==============================] - 0s 237us/step - loss: 0.1548 - acc: 0.9573 - val_loss: 0.0270 - val_acc: 1.0000\n",
      "Epoch 6/10\n",
      "164/164 [==============================] - 0s 249us/step - loss: 0.1115 - acc: 0.9695 - val_loss: 0.0195 - val_acc: 1.0000\n",
      "Epoch 7/10\n",
      "164/164 [==============================] - 0s 243us/step - loss: 0.1596 - acc: 0.9756 - val_loss: 0.0152 - val_acc: 1.0000\n",
      "Epoch 8/10\n",
      "164/164 [==============================] - 0s 249us/step - loss: 0.0616 - acc: 0.9878 - val_loss: 0.0140 - val_acc: 1.0000\n",
      "Epoch 9/10\n",
      "164/164 [==============================] - 0s 225us/step - loss: 0.0734 - acc: 0.9817 - val_loss: 0.0137 - val_acc: 1.0000\n",
      "Epoch 10/10\n",
      "164/164 [==============================] - 0s 225us/step - loss: 0.0555 - acc: 0.9756 - val_loss: 0.0200 - val_acc: 1.0000\n"
     ]
    }
   ],
   "source": [
    "history = model.fit(X_train, y_train, epochs = 10, validation_data= (X_test, y_test), verbose=1)"
   ]
  },
  {
   "cell_type": "code",
   "execution_count": 30,
   "metadata": {},
   "outputs": [],
   "source": [
    "def plot_learningCurve(history, epochs):\n",
    "  # Plot training & validation accuracy values\n",
    "  epoch_range = range(1, epochs+1)\n",
    "  plt.plot(epoch_range, history.history['acc'])\n",
    "  plt.plot(epoch_range, history.history['val_acc'])\n",
    "  plt.title('Model accuracy')\n",
    "  plt.ylabel('Accuracy')\n",
    "  plt.xlabel('Epoch')\n",
    "  plt.legend(['Train', 'Val'], loc='upper left')\n",
    "  plt.show()\n",
    "\n",
    "  # Plot training & validation loss values\n",
    "  plt.plot(epoch_range, history.history['loss'])\n",
    "  plt.plot(epoch_range, history.history['val_loss'])\n",
    "  plt.title('Model loss')\n",
    "  plt.ylabel('Loss')\n",
    "  plt.xlabel('Epoch')\n",
    "  plt.legend(['Train', 'Val'], loc='upper left')\n",
    "  plt.show()"
   ]
  },
  {
   "cell_type": "code",
   "execution_count": 31,
   "metadata": {},
   "outputs": [
    {
     "data": {
      "image/png": "[encoded data removed]",
      "text/plain": [
       "<Figure size 432x288 with 1 Axes>"
      ]
     },
     "metadata": {
      "needs_background": "light"
     },
     "output_type": "display_data"
    },
    {
     "data": {
      "image/png": "[encoded data removed]",
      "text/plain": [
       "<Figure size 432x288 with 1 Axes>"
      ]
     },
     "metadata": {
      "needs_background": "light"
     },
     "output_type": "display_data"
    }
   ],
   "source": [
    "plot_learningCurve(history,10)"
   ]
  },
  {
   "cell_type": "code",
   "execution_count": 32,
   "metadata": {},
   "outputs": [],
   "source": [
    "from mlxtend.plotting import plot_confusion_matrix\n",
    "from sklearn.metrics import confusion_matrix"
   ]
  },
  {
   "cell_type": "code",
   "execution_count": 33,
   "metadata": {},
   "outputs": [],
   "source": [
    "y_pred = model.predict_classes(X_test)"
   ]
  },
  {
   "cell_type": "code",
   "execution_count": 34,
   "metadata": {},
   "outputs": [
    {
     "data": {
      "text/plain": [
       "(<Figure size 504x504 with 1 Axes>,\n",
       " <AxesSubplot:xlabel='predicted label', ylabel='true label'>)"
      ]
     },
     "execution_count": 34,
     "metadata": {},
     "output_type": "execute_result"
    },
    {
     "data": {
      "image/png": "[encoded data removed]",
      "text/plain": [
       "<Figure size 504x504 with 1 Axes>"
      ]
     },
     "metadata": {
      "needs_background": "light"
     },
     "output_type": "display_data"
    }
   ],
   "source": [
    "mat = confusion_matrix(y_test, y_pred)\n",
    "plot_confusion_matrix(conf_mat=mat, class_names=label.classes_, show_normed=True, figsize=(7,7))"
   ]
  },
  {
   "cell_type": "code",
   "execution_count": 37,
   "metadata": {},
   "outputs": [
    {
     "name": "stdout",
     "output_type": "stream",
     "text": [
      "_________________________________________________________________\n",
      "Layer (type)                 Output Shape              Param #   \n",
      "=================================================================\n",
      "conv2d (Conv2D)              (None, 79, 2, 16)         80        \n",
      "_________________________________________________________________\n",
      "dropout (Dropout)            (None, 79, 2, 16)         0         \n",
      "_________________________________________________________________\n",
      "conv2d_1 (Conv2D)            (None, 78, 1, 32)         2080      \n",
      "_________________________________________________________________\n",
      "dropout_1 (Dropout)          (None, 78, 1, 32)         0         \n",
      "_________________________________________________________________\n",
      "flatten (Flatten)            (None, 2496)              0         \n",
      "_________________________________________________________________\n",
      "dense (Dense)                (None, 64)                159808    \n",
      "_________________________________________________________________\n",
      "dropout_2 (Dropout)          (None, 64)                0         \n",
      "_________________________________________________________________\n",
      "dense_1 (Dense)              (None, 6)                 390       \n",
      "=================================================================\n",
      "Total params: 162,358\n",
      "Trainable params: 162,358\n",
      "Non-trainable params: 0\n",
      "_________________________________________________________________\n"
     ]
    }
   ],
   "source": [
    "model.summary()"
   ]
  },
  {
   "cell_type": "code",
   "execution_count": 35,
   "metadata": {},
   "outputs": [],
   "source": [
    "model.save_weights('model.h5')"
   ]
  },
  {
   "cell_type": "code",
   "execution_count": 36,
   "metadata": {},
   "outputs": [
    {
     "name": "stdout",
     "output_type": "stream",
     "text": [
      "Saved model to disk\n"
     ]
    }
   ],
   "source": [
    "# serialize model to JSON\n",
    "model_json = model.to_json()\n",
    "with open(\"model.json\", \"w\") as json_file:\n",
    "    json_file.write(model_json)\n",
    "# serialize weights to HDF5\n",
    "model.save_weights(\"model.h5\")\n",
    "print(\"Saved model to disk\")"
   ]
  },
  {
   "cell_type": "code",
   "execution_count": 68,
   "metadata": {},
   "outputs": [
    {
     "ename": "ImportError",
     "evalue": "cannot import name 'from_keras_model'",
     "output_type": "error",
     "traceback": [
      "\u001b[1;31m---------------------------------------------------------------------------\u001b[0m",
      "\u001b[1;31mImportError\u001b[0m                               Traceback (most recent call last)",
      "\u001b[1;32m<ipython-input-68-d55c3561bf6d>\u001b[0m in \u001b[0;36m<module>\u001b[1;34m\u001b[0m\n\u001b[0;32m      1\u001b[0m \u001b[1;32mimport\u001b[0m \u001b[0mtensorflow\u001b[0m\u001b[1;33m.\u001b[0m\u001b[0mcontrib\u001b[0m\u001b[1;33m\u001b[0m\u001b[1;33m\u001b[0m\u001b[0m\n\u001b[0;32m      2\u001b[0m \u001b[1;32mfrom\u001b[0m \u001b[0mtensorflow\u001b[0m\u001b[1;33m.\u001b[0m\u001b[0mcontrib\u001b[0m \u001b[1;32mimport\u001b[0m \u001b[0mlite\u001b[0m\u001b[1;33m\u001b[0m\u001b[1;33m\u001b[0m\u001b[0m\n\u001b[1;32m----> 3\u001b[1;33m \u001b[1;32mfrom\u001b[0m \u001b[0mkeras\u001b[0m \u001b[1;32mimport\u001b[0m \u001b[0mfrom_keras_model\u001b[0m\u001b[1;33m\u001b[0m\u001b[1;33m\u001b[0m\u001b[0m\n\u001b[0m",
      "\u001b[1;31mImportError\u001b[0m: cannot import name 'from_keras_model'"
     ]
    }
   ],
   "source": [
    "import tensorflow.contrib\n",
    "from tensorflow.contrib import lite\n",
    "from keras import from_keras_model"
   ]
  },
  {
   "cell_type": "code",
   "execution_count": 67,
   "metadata": {},
   "outputs": [
    {
     "ename": "AttributeError",
     "evalue": "type object 'TFLiteConverter' has no attribute 'from_keras_model'",
     "output_type": "error",
     "traceback": [
      "\u001b[1;31m---------------------------------------------------------------------------\u001b[0m",
      "\u001b[1;31mAttributeError\u001b[0m                            Traceback (most recent call last)",
      "\u001b[1;32m<ipython-input-67-c7f3b7eea156>\u001b[0m in \u001b[0;36m<module>\u001b[1;34m\u001b[0m\n\u001b[1;32m----> 1\u001b[1;33m \u001b[0mconverter\u001b[0m \u001b[1;33m=\u001b[0m \u001b[0mtensorflow\u001b[0m\u001b[1;33m.\u001b[0m\u001b[0mcontrib\u001b[0m\u001b[1;33m.\u001b[0m\u001b[0mlite\u001b[0m\u001b[1;33m.\u001b[0m\u001b[0mTFLiteConverter\u001b[0m\u001b[1;33m.\u001b[0m\u001b[0mfrom_keras_model\u001b[0m\u001b[1;33m(\u001b[0m\u001b[0mmodel\u001b[0m\u001b[1;33m)\u001b[0m\u001b[1;33m\u001b[0m\u001b[1;33m\u001b[0m\u001b[0m\n\u001b[0m\u001b[0;32m      2\u001b[0m \u001b[0mtfmodel\u001b[0m \u001b[1;33m=\u001b[0m \u001b[0mconverter\u001b[0m\u001b[1;33m.\u001b[0m\u001b[0mconvert\u001b[0m\u001b[1;33m(\u001b[0m\u001b[1;33m)\u001b[0m\u001b[1;33m\u001b[0m\u001b[1;33m\u001b[0m\u001b[0m\n",
      "\u001b[1;31mAttributeError\u001b[0m: type object 'TFLiteConverter' has no attribute 'from_keras_model'"
     ]
    }
   ],
   "source": [
    "converter = tensorflow.contrib.lite.TFLiteConverter.from_keras_model(model)\n",
    "tfmodel = converter.convert()"
   ]
  },
  {
   "cell_type": "code",
   "execution_count": null,
   "metadata": {},
   "outputs": [],
   "source": []
  }
 ],
 "metadata": {
  "kernelspec": {
   "display_name": "python3.6(tensorflow)",
   "language": "python",
   "name": "tensorflow"
  },
  "language_info": {
   "codemirror_mode": {
    "name": "ipython",
    "version": 3
   },
   "file_extension": ".py",
   "mimetype": "text/x-python",
   "name": "python",
   "nbconvert_exporter": "python",
   "pygments_lexer": "ipython3",
   "version": "3.6.12"
  }
 },
 "nbformat": 4,
 "nbformat_minor": 4
}
